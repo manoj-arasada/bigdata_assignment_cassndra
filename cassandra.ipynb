{
 "cells": [
  {
   "cell_type": "code",
   "execution_count": 1,
   "id": "078c9f22-cac6-4330-8b13-4149d73aefbb",
   "metadata": {
    "tags": []
   },
   "outputs": [],
   "source": [
    "import pandas as pd\n",
    "from cassandra.cluster import Cluster"
   ]
  },
  {
   "cell_type": "code",
   "execution_count": 2,
   "id": "58aa2201-3a25-4e18-a823-4860f48b2753",
   "metadata": {
    "tags": []
   },
   "outputs": [],
   "source": [
    "clstr=Cluster()\n",
    "session=clstr.connect()"
   ]
  },
  {
   "cell_type": "code",
   "execution_count": 4,
   "id": "21d5d14d-583c-4c27-b327-e701675417a6",
   "metadata": {
    "tags": []
   },
   "outputs": [
    {
     "data": {
      "text/plain": [
       "<cassandra.cluster.ResultSet at 0x7fa46014e620>"
      ]
     },
     "execution_count": 4,
     "metadata": {},
     "output_type": "execute_result"
    }
   ],
   "source": [
    "session.execute(\"CREATE KEYSPACE IF NOT EXISTS m14 with replication ={'class': 'SimpleStrategy', 'replication_factor':1};\")"
   ]
  },
  {
   "cell_type": "code",
   "execution_count": 5,
   "id": "eab55bfa-94f5-42c1-804f-53172b592247",
   "metadata": {
    "tags": []
   },
   "outputs": [],
   "source": [
    "session.set_keyspace(\"m14\")"
   ]
  },
  {
   "cell_type": "code",
   "execution_count": 6,
   "id": "69d144ad-b518-433e-aed0-63f7a69178b5",
   "metadata": {
    "tags": []
   },
   "outputs": [],
   "source": [
    "create_table_query=\"\"\"\n",
    "CREATE TABLE IF NOT EXISTS m14.inventory(\n",
    "sku text PRIMARY KEY,\n",
    "name text,\n",
    "description text,\n",
    "warehouse_num int\n",
    ");\n",
    "\"\"\""
   ]
  },
  {
   "cell_type": "code",
   "execution_count": 7,
   "id": "a8a5fcc4-180a-4717-a4e5-57c9b1362ac4",
   "metadata": {
    "tags": []
   },
   "outputs": [
    {
     "data": {
      "text/plain": [
       "<cassandra.cluster.ResultSet at 0x7fa4601224d0>"
      ]
     },
     "execution_count": 7,
     "metadata": {},
     "output_type": "execute_result"
    }
   ],
   "source": [
    "session.execute(create_table_query)"
   ]
  },
  {
   "cell_type": "code",
   "execution_count": 15,
   "id": "3100d72d-f95c-40b7-b6f1-69d5aac67e0e",
   "metadata": {
    "tags": []
   },
   "outputs": [
    {
     "data": {
      "text/plain": [
       "<cassandra.cluster.ResultSet at 0x7fa46018d390>"
      ]
     },
     "execution_count": 15,
     "metadata": {},
     "output_type": "execute_result"
    }
   ],
   "source": [
    "session.execute(\"INSERT INTO m14.inventory (SKU, name, description, warehouse_num) VALUES ('12345', 'Product1', 'Description1', 123)\")\n",
    "session.execute(\"INSERT INTO m14.inventory (SKU, name, description, warehouse_num) VALUES ('67890', 'Product2', 'Description2', 456)\")"
   ]
  },
  {
   "cell_type": "code",
   "execution_count": 16,
   "id": "194c8717-ad2b-44c8-a04b-3c72ab8a792d",
   "metadata": {
    "tags": []
   },
   "outputs": [
    {
     "data": {
      "text/plain": [
       "<cassandra.cluster.ResultSet at 0x7fa4601dd9c0>"
      ]
     },
     "execution_count": 16,
     "metadata": {},
     "output_type": "execute_result"
    }
   ],
   "source": [
    "session.execute(\"CREATE INDEX IF NOT EXISTS warehouse_index ON m14.inventory (warehouse_num)\")"
   ]
  },
  {
   "cell_type": "code",
   "execution_count": 17,
   "id": "8086abe3-626d-4b00-9977-8970ac6a9136",
   "metadata": {
    "tags": []
   },
   "outputs": [
    {
     "name": "stdout",
     "output_type": "stream",
     "text": [
      "Row(sku='12345', description='Description1', name='Product1', warehouse_num=123)\n"
     ]
    }
   ],
   "source": [
    "result = session.execute(\"SELECT * FROM m14.inventory WHERE warehouse_num = 123\")\n",
    "\n",
    "for row in result:\n",
    "    print(row)"
   ]
  },
  {
   "cell_type": "code",
   "execution_count": null,
   "id": "cc32eade-6fd1-4631-a630-c5f360c2cd97",
   "metadata": {},
   "outputs": [],
   "source": []
  }
 ],
 "metadata": {
  "kernelspec": {
   "display_name": "Python 3 (ipykernel)",
   "language": "python",
   "name": "python3"
  },
  "language_info": {
   "codemirror_mode": {
    "name": "ipython",
    "version": 3
   },
   "file_extension": ".py",
   "mimetype": "text/x-python",
   "name": "python",
   "nbconvert_exporter": "python",
   "pygments_lexer": "ipython3",
   "version": "3.10.12"
  }
 },
 "nbformat": 4,
 "nbformat_minor": 5
}
