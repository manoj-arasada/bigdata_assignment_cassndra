{
 "cells": [
  {
   "cell_type": "code",
   "execution_count": 2,
   "id": "f03379d7-e342-4924-8511-5c46f8c6042f",
   "metadata": {
    "tags": []
   },
   "outputs": [],
   "source": [
    "import pandas as pd\n",
    "from cassandra.cluster import Cluster"
   ]
  },
  {
   "cell_type": "code",
   "execution_count": 3,
   "id": "4fba86c0-780f-4799-b814-b80a346806d5",
   "metadata": {
    "tags": []
   },
   "outputs": [],
   "source": [
    "clstr = Cluster()\n",
    "session = clstr.connect()"
   ]
  },
  {
   "cell_type": "code",
   "execution_count": 18,
   "id": "93fc0684-a0fc-49c1-afa9-898fc1aae891",
   "metadata": {
    "tags": []
   },
   "outputs": [
    {
     "data": {
      "text/plain": [
       "<cassandra.cluster.ResultSet at 0x7fb2aeb61120>"
      ]
     },
     "execution_count": 18,
     "metadata": {},
     "output_type": "execute_result"
    }
   ],
   "source": [
    "session.execute(\"DROP KEYSPACE IF EXISTS m14\")"
   ]
  },
  {
   "cell_type": "code",
   "execution_count": 19,
   "id": "9724416f-3764-42f1-ac5e-08b857ae0d19",
   "metadata": {
    "tags": []
   },
   "outputs": [
    {
     "data": {
      "text/plain": [
       "<cassandra.cluster.ResultSet at 0x7fb2aeb60940>"
      ]
     },
     "execution_count": 19,
     "metadata": {},
     "output_type": "execute_result"
    }
   ],
   "source": [
    "session.execute(\"CREATE KEYSPACE IF NOT EXISTS m14 WITH REPLICATION = {'class':'SimpleStrategy', 'replication_factor':2}\")"
   ]
  },
  {
   "cell_type": "code",
   "execution_count": 20,
   "id": "92dd02bd-a71d-43de-b74c-e2b1cebfc204",
   "metadata": {
    "tags": []
   },
   "outputs": [
    {
     "data": {
      "text/plain": [
       "<cassandra.cluster.ResultSet at 0x7fb2aeb62650>"
      ]
     },
     "execution_count": 20,
     "metadata": {},
     "output_type": "execute_result"
    }
   ],
   "source": [
    "session.execute(\"\"\"\n",
    "CREATE TABLE IF NOT EXISTS m14.inventory ( \n",
    "    SKU TEXT, \n",
    "    name TEXT, \n",
    "    description TEXT, \n",
    "    warehouse_num INT, \n",
    "    PRIMARY KEY(SKU)\n",
    ");\n",
    "\"\"\")"
   ]
  },
  {
   "cell_type": "code",
   "execution_count": 21,
   "id": "c1574276-f43d-471d-b62f-228c69a3de6c",
   "metadata": {
    "tags": []
   },
   "outputs": [],
   "source": [
    "data = [('s1','p1', 'dairy product', 573),('s2','p2','electronics',813),('s3','p3', 'electronics', 573),('s4','p1','dairy product',600)]\n"
   ]
  },
  {
   "cell_type": "code",
   "execution_count": 26,
   "id": "e427cfbd-6467-4250-b327-8ece9032d26c",
   "metadata": {
    "tags": []
   },
   "outputs": [
    {
     "data": {
      "text/plain": [
       "[('s1', 'p1', 'dairy product', 573),\n",
       " ('s2', 'p2', 'electronics', 813),\n",
       " ('s3', 'p3', 'electronics', 573),\n",
       " ('s4', 'p1', 'dairy product', 600)]"
      ]
     },
     "execution_count": 26,
     "metadata": {},
     "output_type": "execute_result"
    }
   ],
   "source": [
    "data"
   ]
  },
  {
   "cell_type": "code",
   "execution_count": 22,
   "id": "342ec5a1-b546-46fd-a891-742bf3c378d5",
   "metadata": {
    "tags": []
   },
   "outputs": [],
   "source": [
    "for row in data:\n",
    "    session.execute(\"\"\"\n",
    "    INSERT INTO m14.inventory (SKU, name, description, warehouse_num)\n",
    "    VALUES(%s,%s,%s,%s)\n",
    "    \"\"\",row)"
   ]
  },
  {
   "cell_type": "code",
   "execution_count": 23,
   "id": "b5ec51c4-0d27-41aa-8bb9-6797802040bd",
   "metadata": {
    "tags": []
   },
   "outputs": [
    {
     "data": {
      "text/plain": [
       "<cassandra.cluster.ResultSet at 0x7fb2aebdf8b0>"
      ]
     },
     "execution_count": 23,
     "metadata": {},
     "output_type": "execute_result"
    }
   ],
   "source": [
    "session.execute(\"CREATE INDEX IF NOT EXISTS warehouse_index ON m14.inventory (warehouse_num)\")"
   ]
  },
  {
   "cell_type": "code",
   "execution_count": 25,
   "id": "d70ce7f1-c483-41c7-93c2-d70bbef6dc2d",
   "metadata": {
    "tags": []
   },
   "outputs": [
    {
     "name": "stdout",
     "output_type": "stream",
     "text": [
      "p1, dairy product\n",
      "p3, electronics\n"
     ]
    }
   ],
   "source": [
    "rows = session.execute(\"select (name,description) from m14.inventory where warehouse_num = 573 ALLOW FILTERING\")\n",
    "for row in rows:\n",
    "    print(f\"{row[0][0]}, {row[0][1]}\")"
   ]
  },
  {
   "cell_type": "code",
   "execution_count": null,
   "id": "17c1c84d-1c33-4256-b5be-5295f253e2f4",
   "metadata": {},
   "outputs": [],
   "source": []
  }
 ],
 "metadata": {
  "kernelspec": {
   "display_name": "Python 3 (ipykernel)",
   "language": "python",
   "name": "python3"
  },
  "language_info": {
   "codemirror_mode": {
    "name": "ipython",
    "version": 3
   },
   "file_extension": ".py",
   "mimetype": "text/x-python",
   "name": "python",
   "nbconvert_exporter": "python",
   "pygments_lexer": "ipython3",
   "version": "3.10.12"
  }
 },
 "nbformat": 4,
 "nbformat_minor": 5
}
